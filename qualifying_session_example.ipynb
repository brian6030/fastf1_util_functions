{
  "cells": [
    {
      "cell_type": "code",
      "execution_count": 2,
      "metadata": {
        "colab": {
          "base_uri": "https://localhost:8080/"
        },
        "id": "fQnuWWPl3lXm",
        "outputId": "a9dc592f-96b2-4c2e-9580-18483eb1d4a0"
      },
      "outputs": [
        {
          "data": {
            "text/plain": [
              "\" from google.colab import drive\\ndrive.mount('/content/drive', force_remount = True)\\n\\nimport sys\\nsys.path.insert(0, '/content/drive/MyDrive/Colab Notebooks')\\n\\n!pip install fastf1\\n\\n\""
            ]
          },
          "execution_count": 2,
          "metadata": {},
          "output_type": "execute_result"
        }
      ],
      "source": [
        "# For Google Colab\n",
        "\n",
        "\"\"\" from google.colab import drive\n",
        "drive.mount('/content/drive', force_remount = True)\n",
        "\n",
        "import sys\n",
        "sys.path.insert(0, '/content/drive/MyDrive/Colab Notebooks')\n",
        "\n",
        "!pip install fastf1\n",
        "\n",
        "\"\"\""
      ]
    },
    {
      "cell_type": "code",
      "execution_count": 3,
      "metadata": {
        "id": "fLxFnK_v4eVM"
      },
      "outputs": [
        {
          "name": "stderr",
          "output_type": "stream",
          "text": [
            "/home/fastf1_util_functions/fastf1/lib/python3.12/site-packages/fastf1/plotting/_plotting.py:90: FutureWarning: FastF1 will no longer silently modify the default Matplotlib colors in the future.\n",
            "To remove this warning, explicitly set `color_scheme=None` or `color_scheme='fastf1'` when calling `.setup_mpl()`.\n",
            "  warnings.warn(\n"
          ]
        }
      ],
      "source": [
        "import fastf1\n",
        "import fastf1.plotting\n",
        "fastf1.plotting.setup_mpl(misc_mpl_mods=False)\n",
        "# activate the fastf1 color scheme (and no other modifications)\n",
        "fastf1.plotting.setup_mpl(mpl_timedelta_support=False, misc_mpl_mods=False)\n",
        "\n",
        "import pandas as pd\n",
        "import matplotlib.pyplot as plt\n",
        "import numpy as np\n",
        "import seaborn as sns\n",
        "\n",
        "import fastf1_qualifying_util"
      ]
    },
    {
      "cell_type": "code",
      "execution_count": null,
      "metadata": {
        "colab": {
          "base_uri": "https://localhost:8080/"
        },
        "collapsed": true,
        "id": "1-M-5X1S4epN",
        "outputId": "75ff99ee-e0e6-47ad-c60c-42c93033faff"
      },
      "outputs": [
        {
          "ename": "ValueError",
          "evalue": "Invalid session type 'Q3'",
          "output_type": "error",
          "traceback": [
            "\u001b[31m---------------------------------------------------------------------------\u001b[39m",
            "\u001b[31mValueError\u001b[39m                                Traceback (most recent call last)",
            "\u001b[36mFile \u001b[39m\u001b[32m/home/fastf1_util_functions/fastf1/lib/python3.12/site-packages/fastf1/events.py:1116\u001b[39m, in \u001b[36mEvent.get_session\u001b[39m\u001b[34m(self, identifier)\u001b[39m\n\u001b[32m   1115\u001b[39m \u001b[38;5;28;01mtry\u001b[39;00m:\n\u001b[32m-> \u001b[39m\u001b[32m1116\u001b[39m     num = \u001b[38;5;28;43mfloat\u001b[39;49m\u001b[43m(\u001b[49m\u001b[43midentifier\u001b[49m\u001b[43m)\u001b[49m\n\u001b[32m   1117\u001b[39m \u001b[38;5;28;01mexcept\u001b[39;00m \u001b[38;5;167;01mValueError\u001b[39;00m:\n\u001b[32m   1118\u001b[39m     \u001b[38;5;66;03m# by name or abbreviation\u001b[39;00m\n",
            "\u001b[31mValueError\u001b[39m: could not convert string to float: 'Q3'",
            "\nDuring handling of the above exception, another exception occurred:\n",
            "\u001b[31mValueError\u001b[39m                                Traceback (most recent call last)",
            "\u001b[36mFile \u001b[39m\u001b[32m/home/fastf1_util_functions/fastf1/lib/python3.12/site-packages/fastf1/events.py:1039\u001b[39m, in \u001b[36mEvent.get_session_name\u001b[39m\u001b[34m(self, identifier)\u001b[39m\n\u001b[32m   1038\u001b[39m \u001b[38;5;28;01mtry\u001b[39;00m:\n\u001b[32m-> \u001b[39m\u001b[32m1039\u001b[39m     num = \u001b[38;5;28;43mfloat\u001b[39;49m\u001b[43m(\u001b[49m\u001b[43midentifier\u001b[49m\u001b[43m)\u001b[49m\n\u001b[32m   1040\u001b[39m \u001b[38;5;28;01mexcept\u001b[39;00m \u001b[38;5;167;01mValueError\u001b[39;00m:\n\u001b[32m   1041\u001b[39m     \u001b[38;5;66;03m# by name or abbreviation\u001b[39;00m\n",
            "\u001b[31mValueError\u001b[39m: could not convert string to float: 'Q3'",
            "\nDuring handling of the above exception, another exception occurred:\n",
            "\u001b[31mKeyError\u001b[39m                                  Traceback (most recent call last)",
            "\u001b[36mFile \u001b[39m\u001b[32m/home/fastf1_util_functions/fastf1/lib/python3.12/site-packages/fastf1/events.py:1049\u001b[39m, in \u001b[36mEvent.get_session_name\u001b[39m\u001b[34m(self, identifier)\u001b[39m\n\u001b[32m   1047\u001b[39m \u001b[38;5;28;01mtry\u001b[39;00m:\n\u001b[32m   1048\u001b[39m     session_name = \\\n\u001b[32m-> \u001b[39m\u001b[32m1049\u001b[39m         \u001b[43m_SESSION_TYPE_ABBREVIATIONS\u001b[49m\u001b[43m[\u001b[49m\u001b[43midentifier\u001b[49m\u001b[43m.\u001b[49m\u001b[43mupper\u001b[49m\u001b[43m(\u001b[49m\u001b[43m)\u001b[49m\u001b[43m]\u001b[49m\n\u001b[32m   1050\u001b[39m \u001b[38;5;28;01mexcept\u001b[39;00m \u001b[38;5;167;01mKeyError\u001b[39;00m:\n",
            "\u001b[31mKeyError\u001b[39m: 'Q3'",
            "\nDuring handling of the above exception, another exception occurred:\n",
            "\u001b[31mValueError\u001b[39m                                Traceback (most recent call last)",
            "\u001b[36mCell\u001b[39m\u001b[36m \u001b[39m\u001b[32mIn[7]\u001b[39m\u001b[32m, line 1\u001b[39m\n\u001b[32m----> \u001b[39m\u001b[32m1\u001b[39m qualifying = \u001b[43mfastf1\u001b[49m\u001b[43m.\u001b[49m\u001b[43mget_session\u001b[49m\u001b[43m(\u001b[49m\u001b[32;43m2025\u001b[39;49m\u001b[43m,\u001b[49m\u001b[43m \u001b[49m\u001b[32;43m8\u001b[39;49m\u001b[43m,\u001b[49m\u001b[43m \u001b[49m\u001b[33;43m'\u001b[39;49m\u001b[33;43mQ3\u001b[39;49m\u001b[33;43m'\u001b[39;49m\u001b[43m)\u001b[49m\n\u001b[32m      2\u001b[39m qualifying.load()\n",
            "\u001b[36mFile \u001b[39m\u001b[32m/home/fastf1_util_functions/fastf1/lib/python3.12/site-packages/fastf1/events.py:311\u001b[39m, in \u001b[36mget_session\u001b[39m\u001b[34m(year, gp, identifier, backend, force_ergast)\u001b[39m\n\u001b[32m    250\u001b[39m \u001b[38;5;250m\u001b[39m\u001b[33;03m\"\"\"Create a :class:`~fastf1.core.Session` object based on year, event name\u001b[39;00m\n\u001b[32m    251\u001b[39m \u001b[33;03mand session identifier.\u001b[39;00m\n\u001b[32m    252\u001b[39m \n\u001b[32m   (...)\u001b[39m\u001b[32m    308\u001b[39m \u001b[33;03m        from the ergast database to create the event schedule\u001b[39;00m\n\u001b[32m    309\u001b[39m \u001b[33;03m\"\"\"\u001b[39;00m\n\u001b[32m    310\u001b[39m event = get_event(year, gp, force_ergast=force_ergast, backend=backend)\n\u001b[32m--> \u001b[39m\u001b[32m311\u001b[39m \u001b[38;5;28;01mreturn\u001b[39;00m \u001b[43mevent\u001b[49m\u001b[43m.\u001b[49m\u001b[43mget_session\u001b[49m\u001b[43m(\u001b[49m\u001b[43midentifier\u001b[49m\u001b[43m)\u001b[49m\n",
            "\u001b[36mFile \u001b[39m\u001b[32m/home/fastf1_util_functions/fastf1/lib/python3.12/site-packages/fastf1/events.py:1119\u001b[39m, in \u001b[36mEvent.get_session\u001b[39m\u001b[34m(self, identifier)\u001b[39m\n\u001b[32m   1116\u001b[39m     num = \u001b[38;5;28mfloat\u001b[39m(identifier)\n\u001b[32m   1117\u001b[39m \u001b[38;5;28;01mexcept\u001b[39;00m \u001b[38;5;167;01mValueError\u001b[39;00m:\n\u001b[32m   1118\u001b[39m     \u001b[38;5;66;03m# by name or abbreviation\u001b[39;00m\n\u001b[32m-> \u001b[39m\u001b[32m1119\u001b[39m     session_name = \u001b[38;5;28;43mself\u001b[39;49m\u001b[43m.\u001b[49m\u001b[43mget_session_name\u001b[49m\u001b[43m(\u001b[49m\u001b[43midentifier\u001b[49m\u001b[43m)\u001b[49m\n\u001b[32m   1120\u001b[39m     \u001b[38;5;28;01mif\u001b[39;00m session_name \u001b[38;5;129;01mnot\u001b[39;00m \u001b[38;5;129;01min\u001b[39;00m \u001b[38;5;28mself\u001b[39m.values:\n\u001b[32m   1121\u001b[39m         \u001b[38;5;28;01mraise\u001b[39;00m \u001b[38;5;167;01mValueError\u001b[39;00m(\u001b[33mf\u001b[39m\u001b[33m\"\u001b[39m\u001b[33mSession type \u001b[39m\u001b[33m'\u001b[39m\u001b[38;5;132;01m{\u001b[39;00midentifier\u001b[38;5;132;01m}\u001b[39;00m\u001b[33m'\u001b[39m\u001b[33m does not \u001b[39m\u001b[33m\"\u001b[39m\n\u001b[32m   1122\u001b[39m                          \u001b[33mf\u001b[39m\u001b[33m\"\u001b[39m\u001b[33mexist for this event\u001b[39m\u001b[33m\"\u001b[39m)\n",
            "\u001b[36mFile \u001b[39m\u001b[32m/home/fastf1_util_functions/fastf1/lib/python3.12/site-packages/fastf1/events.py:1051\u001b[39m, in \u001b[36mEvent.get_session_name\u001b[39m\u001b[34m(self, identifier)\u001b[39m\n\u001b[32m   1048\u001b[39m         session_name = \\\n\u001b[32m   1049\u001b[39m             _SESSION_TYPE_ABBREVIATIONS[identifier.upper()]\n\u001b[32m   1050\u001b[39m     \u001b[38;5;28;01mexcept\u001b[39;00m \u001b[38;5;167;01mKeyError\u001b[39;00m:\n\u001b[32m-> \u001b[39m\u001b[32m1051\u001b[39m         \u001b[38;5;28;01mraise\u001b[39;00m \u001b[38;5;167;01mValueError\u001b[39;00m(\u001b[33mf\u001b[39m\u001b[33m\"\u001b[39m\u001b[33mInvalid session type \u001b[39m\u001b[33m'\u001b[39m\u001b[38;5;132;01m{\u001b[39;00midentifier\u001b[38;5;132;01m}\u001b[39;00m\u001b[33m'\u001b[39m\u001b[33m\"\u001b[39m)\n\u001b[32m   1053\u001b[39m \u001b[38;5;66;03m# 'Sprint' was originally called 'Sprint Qualifying' only in the\u001b[39;00m\n\u001b[32m   1054\u001b[39m \u001b[38;5;66;03m# old 'sprint' event format and renamed later; support the old\u001b[39;00m\n\u001b[32m   1055\u001b[39m \u001b[38;5;66;03m# name for backwards compatibility by silently correcting to the\u001b[39;00m\n\u001b[32m   1056\u001b[39m \u001b[38;5;66;03m# new name\u001b[39;00m\n\u001b[32m   1057\u001b[39m \u001b[38;5;28;01mif\u001b[39;00m ((session_name == \u001b[33m'\u001b[39m\u001b[33mSprint Qualifying\u001b[39m\u001b[33m'\u001b[39m)\n\u001b[32m   1058\u001b[39m         \u001b[38;5;129;01mand\u001b[39;00m (\u001b[38;5;28mself\u001b[39m.year \u001b[38;5;129;01min\u001b[39;00m (\u001b[32m2021\u001b[39m, \u001b[32m2022\u001b[39m))):\n",
            "\u001b[31mValueError\u001b[39m: Invalid session type 'Q3'"
          ]
        }
      ],
      "source": [
        "qualifying = fastf1.get_session(2025, 8, 'Q')\n",
        "qualifying.load()"
      ]
    },
    {
      "cell_type": "code",
      "execution_count": 5,
      "metadata": {
        "id": "YWxC8_6wO36y"
      },
      "outputs": [
        {
          "name": "stderr",
          "output_type": "stream",
          "text": [
            "/home/fastf1_util_functions/fastf1/lib/python3.12/site-packages/fastf1/plotting/__init__.py:84: FutureWarning: INCOMPATIBLE with 2025 season! COMPOUND_COLORS is deprecated and will be removed in a future version.\n",
            "  warnings.warn(f\"INCOMPATIBLE with 2025 season! {name} is deprecated \"\n",
            "req            INFO \tUsing cached data for driver_info\n"
          ]
        },
        {
          "name": "stdout",
          "output_type": "stream",
          "text": [
            "Compound colors {'SOFT': '#da291c', 'MEDIUM': '#ffd12e', 'HARD': '#f0f0ec', 'INTERMEDIATE': '#43b02a', 'WET': '#0067ad', 'UNKNOWN': '#00ffff', 'TEST-UNKNOWN': '#434649'}\n",
            "Index(['McLaren', 'Ferrari', 'Red Bull Racing', 'Williams', 'Mercedes',\n",
            "       'Racing Bulls', 'Aston Martin', 'Kick Sauber', 'Haas F1 Team',\n",
            "       'Alpine'],\n",
            "      dtype='object', name='Team')\n",
            "Finishing order:  ['NOR', 'LEC', 'PIA', 'VER', 'HAM', 'HAD', 'OCO', 'LAW', 'ALB', 'SAI', 'RUS', 'BEA', 'COL', 'BOR', 'STR', 'HUL', 'TSU', 'ANT', 'ALO', 'GAS']\n"
          ]
        }
      ],
      "source": [
        "laps = qualifying.laps.pick_quicklaps()\n",
        "transformed_laps = laps.copy()\n",
        "transformed_laps.loc[:, \"LapTime (s)\"] = laps[\"LapTime\"].dt.total_seconds()\n",
        "# Get compound colors\n",
        "compound_colors = fastf1.plotting.COMPOUND_COLORS\n",
        "print('Compound colors', compound_colors)\n",
        "\n",
        "# order the team from the fastest (lowest median lap time) tp slower\n",
        "team_order = (\n",
        "    transformed_laps[[\"Team\", \"LapTime (s)\"]]\n",
        "    .groupby(\"Team\")\n",
        "    .median()[\"LapTime (s)\"]\n",
        "    .sort_values()\n",
        "    .index\n",
        ")\n",
        "print(team_order)\n",
        "\n",
        "team_palette = {team: fastf1.plotting.get_team_color(team, qualifying) for team in team_order}\n",
        "\n",
        "drivers = qualifying.drivers\n",
        "driver_laps = qualifying.laps.pick_drivers(drivers).pick_quicklaps()\n",
        "driver_laps = driver_laps.reset_index()\n",
        "\n",
        "finishing_order = [qualifying.get_driver(i)[\"Abbreviation\"] for i in drivers]\n",
        "print('Finishing order: ', finishing_order)\n",
        "driver_colors = {}\n",
        "for driver_abbr in driver_laps['Driver'].unique():\n",
        "    color = fastf1.plotting.get_driver_color(driver_abbr, qualifying)\n",
        "    driver_colors[driver_abbr] = color"
      ]
    },
    {
      "cell_type": "code",
      "execution_count": null,
      "metadata": {},
      "outputs": [
        {
          "ename": "ValueError",
          "evalue": "Invalid session type 'Q3'",
          "output_type": "error",
          "traceback": [
            "\u001b[31m---------------------------------------------------------------------------\u001b[39m",
            "\u001b[31mValueError\u001b[39m                                Traceback (most recent call last)",
            "\u001b[36mFile \u001b[39m\u001b[32m/home/fastf1_util_functions/fastf1/lib/python3.12/site-packages/fastf1/events.py:1116\u001b[39m, in \u001b[36mEvent.get_session\u001b[39m\u001b[34m(self, identifier)\u001b[39m\n\u001b[32m   1115\u001b[39m \u001b[38;5;28;01mtry\u001b[39;00m:\n\u001b[32m-> \u001b[39m\u001b[32m1116\u001b[39m     num = \u001b[38;5;28;43mfloat\u001b[39;49m\u001b[43m(\u001b[49m\u001b[43midentifier\u001b[49m\u001b[43m)\u001b[49m\n\u001b[32m   1117\u001b[39m \u001b[38;5;28;01mexcept\u001b[39;00m \u001b[38;5;167;01mValueError\u001b[39;00m:\n\u001b[32m   1118\u001b[39m     \u001b[38;5;66;03m# by name or abbreviation\u001b[39;00m\n",
            "\u001b[31mValueError\u001b[39m: could not convert string to float: 'Q3'",
            "\nDuring handling of the above exception, another exception occurred:\n",
            "\u001b[31mValueError\u001b[39m                                Traceback (most recent call last)",
            "\u001b[36mFile \u001b[39m\u001b[32m/home/fastf1_util_functions/fastf1/lib/python3.12/site-packages/fastf1/events.py:1039\u001b[39m, in \u001b[36mEvent.get_session_name\u001b[39m\u001b[34m(self, identifier)\u001b[39m\n\u001b[32m   1038\u001b[39m \u001b[38;5;28;01mtry\u001b[39;00m:\n\u001b[32m-> \u001b[39m\u001b[32m1039\u001b[39m     num = \u001b[38;5;28;43mfloat\u001b[39;49m\u001b[43m(\u001b[49m\u001b[43midentifier\u001b[49m\u001b[43m)\u001b[49m\n\u001b[32m   1040\u001b[39m \u001b[38;5;28;01mexcept\u001b[39;00m \u001b[38;5;167;01mValueError\u001b[39;00m:\n\u001b[32m   1041\u001b[39m     \u001b[38;5;66;03m# by name or abbreviation\u001b[39;00m\n",
            "\u001b[31mValueError\u001b[39m: could not convert string to float: 'Q3'",
            "\nDuring handling of the above exception, another exception occurred:\n",
            "\u001b[31mKeyError\u001b[39m                                  Traceback (most recent call last)",
            "\u001b[36mFile \u001b[39m\u001b[32m/home/fastf1_util_functions/fastf1/lib/python3.12/site-packages/fastf1/events.py:1049\u001b[39m, in \u001b[36mEvent.get_session_name\u001b[39m\u001b[34m(self, identifier)\u001b[39m\n\u001b[32m   1047\u001b[39m \u001b[38;5;28;01mtry\u001b[39;00m:\n\u001b[32m   1048\u001b[39m     session_name = \\\n\u001b[32m-> \u001b[39m\u001b[32m1049\u001b[39m         \u001b[43m_SESSION_TYPE_ABBREVIATIONS\u001b[49m\u001b[43m[\u001b[49m\u001b[43midentifier\u001b[49m\u001b[43m.\u001b[49m\u001b[43mupper\u001b[49m\u001b[43m(\u001b[49m\u001b[43m)\u001b[49m\u001b[43m]\u001b[49m\n\u001b[32m   1050\u001b[39m \u001b[38;5;28;01mexcept\u001b[39;00m \u001b[38;5;167;01mKeyError\u001b[39;00m:\n",
            "\u001b[31mKeyError\u001b[39m: 'Q3'",
            "\nDuring handling of the above exception, another exception occurred:\n",
            "\u001b[31mValueError\u001b[39m                                Traceback (most recent call last)",
            "\u001b[36mCell\u001b[39m\u001b[36m \u001b[39m\u001b[32mIn[6]\u001b[39m\u001b[32m, line 1\u001b[39m\n\u001b[32m----> \u001b[39m\u001b[32m1\u001b[39m session = \u001b[43mfastf1\u001b[49m\u001b[43m.\u001b[49m\u001b[43mget_session\u001b[49m\u001b[43m(\u001b[49m\u001b[32;43m2025\u001b[39;49m\u001b[43m,\u001b[49m\u001b[43m \u001b[49m\u001b[33;43m'\u001b[39;49m\u001b[33;43mMonaco\u001b[39;49m\u001b[33;43m'\u001b[39;49m\u001b[43m,\u001b[49m\u001b[43m \u001b[49m\u001b[33;43m'\u001b[39;49m\u001b[33;43mQ3\u001b[39;49m\u001b[33;43m'\u001b[39;49m\u001b[43m)\u001b[49m\n\u001b[32m      2\u001b[39m session.load()\n\u001b[32m      4\u001b[39m fastf1_qualifying_util.plot_telemetry(session, [\u001b[33m'\u001b[39m\u001b[33mNOR\u001b[39m\u001b[33m'\u001b[39m, \u001b[33m'\u001b[39m\u001b[33mPIA\u001b[39m\u001b[33m'\u001b[39m, \u001b[33m'\u001b[39m\u001b[33mVER\u001b[39m\u001b[33m'\u001b[39m])\n",
            "\u001b[36mFile \u001b[39m\u001b[32m/home/fastf1_util_functions/fastf1/lib/python3.12/site-packages/fastf1/events.py:311\u001b[39m, in \u001b[36mget_session\u001b[39m\u001b[34m(year, gp, identifier, backend, force_ergast)\u001b[39m\n\u001b[32m    250\u001b[39m \u001b[38;5;250m\u001b[39m\u001b[33;03m\"\"\"Create a :class:`~fastf1.core.Session` object based on year, event name\u001b[39;00m\n\u001b[32m    251\u001b[39m \u001b[33;03mand session identifier.\u001b[39;00m\n\u001b[32m    252\u001b[39m \n\u001b[32m   (...)\u001b[39m\u001b[32m    308\u001b[39m \u001b[33;03m        from the ergast database to create the event schedule\u001b[39;00m\n\u001b[32m    309\u001b[39m \u001b[33;03m\"\"\"\u001b[39;00m\n\u001b[32m    310\u001b[39m event = get_event(year, gp, force_ergast=force_ergast, backend=backend)\n\u001b[32m--> \u001b[39m\u001b[32m311\u001b[39m \u001b[38;5;28;01mreturn\u001b[39;00m \u001b[43mevent\u001b[49m\u001b[43m.\u001b[49m\u001b[43mget_session\u001b[49m\u001b[43m(\u001b[49m\u001b[43midentifier\u001b[49m\u001b[43m)\u001b[49m\n",
            "\u001b[36mFile \u001b[39m\u001b[32m/home/fastf1_util_functions/fastf1/lib/python3.12/site-packages/fastf1/events.py:1119\u001b[39m, in \u001b[36mEvent.get_session\u001b[39m\u001b[34m(self, identifier)\u001b[39m\n\u001b[32m   1116\u001b[39m     num = \u001b[38;5;28mfloat\u001b[39m(identifier)\n\u001b[32m   1117\u001b[39m \u001b[38;5;28;01mexcept\u001b[39;00m \u001b[38;5;167;01mValueError\u001b[39;00m:\n\u001b[32m   1118\u001b[39m     \u001b[38;5;66;03m# by name or abbreviation\u001b[39;00m\n\u001b[32m-> \u001b[39m\u001b[32m1119\u001b[39m     session_name = \u001b[38;5;28;43mself\u001b[39;49m\u001b[43m.\u001b[49m\u001b[43mget_session_name\u001b[49m\u001b[43m(\u001b[49m\u001b[43midentifier\u001b[49m\u001b[43m)\u001b[49m\n\u001b[32m   1120\u001b[39m     \u001b[38;5;28;01mif\u001b[39;00m session_name \u001b[38;5;129;01mnot\u001b[39;00m \u001b[38;5;129;01min\u001b[39;00m \u001b[38;5;28mself\u001b[39m.values:\n\u001b[32m   1121\u001b[39m         \u001b[38;5;28;01mraise\u001b[39;00m \u001b[38;5;167;01mValueError\u001b[39;00m(\u001b[33mf\u001b[39m\u001b[33m\"\u001b[39m\u001b[33mSession type \u001b[39m\u001b[33m'\u001b[39m\u001b[38;5;132;01m{\u001b[39;00midentifier\u001b[38;5;132;01m}\u001b[39;00m\u001b[33m'\u001b[39m\u001b[33m does not \u001b[39m\u001b[33m\"\u001b[39m\n\u001b[32m   1122\u001b[39m                          \u001b[33mf\u001b[39m\u001b[33m\"\u001b[39m\u001b[33mexist for this event\u001b[39m\u001b[33m\"\u001b[39m)\n",
            "\u001b[36mFile \u001b[39m\u001b[32m/home/fastf1_util_functions/fastf1/lib/python3.12/site-packages/fastf1/events.py:1051\u001b[39m, in \u001b[36mEvent.get_session_name\u001b[39m\u001b[34m(self, identifier)\u001b[39m\n\u001b[32m   1048\u001b[39m         session_name = \\\n\u001b[32m   1049\u001b[39m             _SESSION_TYPE_ABBREVIATIONS[identifier.upper()]\n\u001b[32m   1050\u001b[39m     \u001b[38;5;28;01mexcept\u001b[39;00m \u001b[38;5;167;01mKeyError\u001b[39;00m:\n\u001b[32m-> \u001b[39m\u001b[32m1051\u001b[39m         \u001b[38;5;28;01mraise\u001b[39;00m \u001b[38;5;167;01mValueError\u001b[39;00m(\u001b[33mf\u001b[39m\u001b[33m\"\u001b[39m\u001b[33mInvalid session type \u001b[39m\u001b[33m'\u001b[39m\u001b[38;5;132;01m{\u001b[39;00midentifier\u001b[38;5;132;01m}\u001b[39;00m\u001b[33m'\u001b[39m\u001b[33m\"\u001b[39m)\n\u001b[32m   1053\u001b[39m \u001b[38;5;66;03m# 'Sprint' was originally called 'Sprint Qualifying' only in the\u001b[39;00m\n\u001b[32m   1054\u001b[39m \u001b[38;5;66;03m# old 'sprint' event format and renamed later; support the old\u001b[39;00m\n\u001b[32m   1055\u001b[39m \u001b[38;5;66;03m# name for backwards compatibility by silently correcting to the\u001b[39;00m\n\u001b[32m   1056\u001b[39m \u001b[38;5;66;03m# new name\u001b[39;00m\n\u001b[32m   1057\u001b[39m \u001b[38;5;28;01mif\u001b[39;00m ((session_name == \u001b[33m'\u001b[39m\u001b[33mSprint Qualifying\u001b[39m\u001b[33m'\u001b[39m)\n\u001b[32m   1058\u001b[39m         \u001b[38;5;129;01mand\u001b[39;00m (\u001b[38;5;28mself\u001b[39m.year \u001b[38;5;129;01min\u001b[39;00m (\u001b[32m2021\u001b[39m, \u001b[32m2022\u001b[39m))):\n",
            "\u001b[31mValueError\u001b[39m: Invalid session type 'Q3'"
          ]
        }
      ],
      "source": [
        "fastf1_qualifying_util.plot_telemetry(qualifying, ['NOR', 'PIA', 'VER'])\n"
      ]
    },
    {
      "cell_type": "code",
      "execution_count": null,
      "metadata": {},
      "outputs": [],
      "source": []
    }
  ],
  "metadata": {
    "colab": {
      "provenance": []
    },
    "kernelspec": {
      "display_name": "fastf1",
      "language": "python",
      "name": "python3"
    },
    "language_info": {
      "codemirror_mode": {
        "name": "ipython",
        "version": 3
      },
      "file_extension": ".py",
      "mimetype": "text/x-python",
      "name": "python",
      "nbconvert_exporter": "python",
      "pygments_lexer": "ipython3",
      "version": "3.12.3"
    }
  },
  "nbformat": 4,
  "nbformat_minor": 0
}
